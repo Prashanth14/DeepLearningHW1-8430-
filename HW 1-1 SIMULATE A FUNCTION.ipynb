{
 "cells": [
  {
   "cell_type": "code",
   "execution_count": 1,
   "id": "4636bd4b",
   "metadata": {},
   "outputs": [],
   "source": [
    "import torch\n",
    "import torch.nn as nn  \n",
    "import torch.nn.functional as F\n",
    "\n",
    "import numpy as np\n",
    "import matplotlib.pyplot as plt\n",
    "%matplotlib inline"
   ]
  },
  {
   "cell_type": "code",
   "execution_count": 2,
   "id": "2f83451e",
   "metadata": {},
   "outputs": [],
   "source": [
    "X = torch.linspace(-1,1,200).reshape(-1,1)\n"
   ]
  },
  {
   "cell_type": "code",
   "execution_count": 3,
   "id": "8cef636b",
   "metadata": {},
   "outputs": [],
   "source": [
    "y=(np.sin(5*(np.pi*X)))/((5*(np.pi*X)))"
   ]
  },
  {
   "cell_type": "code",
   "execution_count": 4,
   "id": "11028c96",
   "metadata": {},
   "outputs": [
    {
     "data": {
      "image/png": "[encoded data removed]",
      "text/plain": [
       "<Figure size 432x288 with 1 Axes>"
      ]
     },
     "metadata": {
      "needs_background": "light"
     },
     "output_type": "display_data"
    }
   ],
   "source": [
    "plt.plot(X.numpy(), y.numpy())\n",
    "\n",
    "plt.ylabel('y')\n",
    "plt.xlabel('x');"
   ]
  },
  {
   "cell_type": "code",
   "execution_count": 5,
   "id": "7dbd0e85",
   "metadata": {},
   "outputs": [],
   "source": [
    "##########################################-----HW 1-1(Model 0)---------############################################"
   ]
  },
  {
   "cell_type": "code",
   "execution_count": 6,
   "id": "c603d192",
   "metadata": {},
   "outputs": [],
   "source": [
    "class Model0(nn.Module):\n",
    "    def __init__(self, in_features=1, h2=5, h3=10,h4=10,h5=10,h6=10,h7=10,h8=5, out_features=1):\n",
    "        super().__init__()\n",
    "        self.fc1 = nn.Linear(in_features,h2)    # input layer\n",
    "        self.fc2 = nn.Linear(h2, h3)\n",
    "        self.fc3 = nn.Linear(h3, h4)\n",
    "        self.fc4 = nn.Linear(h4, h5)\n",
    "        self.fc5 = nn.Linear(h5, h6)\n",
    "        self.fc6 = nn.Linear(h6, h7)\n",
    "        self.fc7 = nn.Linear(h7, h8)\n",
    "        self.out = nn.Linear(h8, out_features)  # output layer\n",
    "\n",
    "        \n",
    "    def forward(self, x):\n",
    "        x = F.relu(self.fc1(x))\n",
    "        x = F.relu(self.fc2(x))\n",
    "        x = F.relu(self.fc3(x))\n",
    "        x = F.relu(self.fc4(x))\n",
    "        x = F.relu(self.fc5(x))\n",
    "        x = F.relu(self.fc6(x))\n",
    "        x = F.relu(self.fc7(x))\n",
    "        x = self.out(x)\n",
    "        return x"
   ]
  },
  {
   "cell_type": "code",
   "execution_count": 7,
   "id": "9fe24a20",
   "metadata": {},
   "outputs": [],
   "source": [
    "model_zero = Model0()"
   ]
  },
  {
   "cell_type": "code",
   "execution_count": 8,
   "id": "e181023e",
   "metadata": {},
   "outputs": [],
   "source": [
    "criterion = nn.MSELoss()"
   ]
  },
  {
   "cell_type": "code",
   "execution_count": 9,
   "id": "2e7e6ff4",
   "metadata": {},
   "outputs": [],
   "source": [
    "optimizer = torch.optim.Adam(model_zero.parameters(), lr=0.001)"
   ]
  },
  {
   "cell_type": "code",
   "execution_count": 10,
   "id": "a789650e",
   "metadata": {},
   "outputs": [],
   "source": [
    "epochs = 2000\n",
    "mod0_losses = []\n",
    "\n",
    "for i in range(epochs):\n",
    "    i+=1\n",
    "    # forward step\n",
    "    y_pred = model_zero.forward(X)\n",
    "    \n",
    "    # compute loss (error)\n",
    "    loss = criterion(y_pred, y)\n",
    "    \n",
    "    # append loss to a list for plotting and analysis\n",
    "    mod0_losses.append(loss)\n",
    "    \n",
    "    # reset gadient at each epoch, because gradients are accumulating\n",
    "    optimizer.zero_grad()\n",
    "    # backprop the loss through the model and compute gradients\n",
    "    loss.backward()\n",
    "    # optimization step to upade weights and biases\n",
    "    optimizer.step()"
   ]
  },
  {
   "cell_type": "code",
   "execution_count": 11,
   "id": "10ece2ed",
   "metadata": {},
   "outputs": [],
   "source": [
    "mod0_losses=torch.tensor(mod0_losses)"
   ]
  },
  {
   "cell_type": "code",
   "execution_count": null,
   "id": "2680ea9b",
   "metadata": {},
   "outputs": [],
   "source": []
  },
  {
   "cell_type": "code",
   "execution_count": 12,
   "id": "7d3475b7",
   "metadata": {},
   "outputs": [],
   "source": [
    "##########################################-----HW 1-1(Model 1)---------############################################"
   ]
  },
  {
   "cell_type": "code",
   "execution_count": null,
   "id": "bddd3bcb",
   "metadata": {},
   "outputs": [],
   "source": []
  },
  {
   "cell_type": "code",
   "execution_count": 13,
   "id": "f134eeb9",
   "metadata": {},
   "outputs": [],
   "source": [
    "class Model1(nn.Module):\n",
    "    def __init__(self, in_features=1, h2=10, h3=18,h4=15,h5=4, out_features=1):\n",
    "        super().__init__()\n",
    "        self.fc1 = nn.Linear(in_features,h2)    # input layer\n",
    "        self.fc2 = nn.Linear(h2, h3)\n",
    "        self.fc3 = nn.Linear(h3, h4)\n",
    "        self.fc4 = nn.Linear(h4, h5)\n",
    "        self.out = nn.Linear(h5, out_features)  # output layer\n",
    "        \n",
    "    def forward(self, x):\n",
    "        x = F.relu(self.fc1(x))\n",
    "        x = F.relu(self.fc2(x))\n",
    "        x = F.relu(self.fc3(x))\n",
    "        x = F.relu(self.fc4(x))\n",
    "        x = self.out(x)\n",
    "        return x"
   ]
  },
  {
   "cell_type": "code",
   "execution_count": 14,
   "id": "b7e445a8",
   "metadata": {},
   "outputs": [],
   "source": [
    "model_one=Model1()"
   ]
  },
  {
   "cell_type": "code",
   "execution_count": 15,
   "id": "30544018",
   "metadata": {},
   "outputs": [
    {
     "data": {
      "text/plain": [
       "Model1(\n",
       "  (fc1): Linear(in_features=1, out_features=10, bias=True)\n",
       "  (fc2): Linear(in_features=10, out_features=18, bias=True)\n",
       "  (fc3): Linear(in_features=18, out_features=15, bias=True)\n",
       "  (fc4): Linear(in_features=15, out_features=4, bias=True)\n",
       "  (out): Linear(in_features=4, out_features=1, bias=True)\n",
       ")"
      ]
     },
     "execution_count": 15,
     "metadata": {},
     "output_type": "execute_result"
    }
   ],
   "source": [
    "model_one"
   ]
  },
  {
   "cell_type": "code",
   "execution_count": 16,
   "id": "56d481ef",
   "metadata": {},
   "outputs": [],
   "source": [
    "criterion = nn.MSELoss()\n"
   ]
  },
  {
   "cell_type": "code",
   "execution_count": 17,
   "id": "4e07c076",
   "metadata": {},
   "outputs": [],
   "source": [
    "optimizer = torch.optim.Adam(model_one.parameters(), lr=0.001)"
   ]
  },
  {
   "cell_type": "code",
   "execution_count": 18,
   "id": "968a6524",
   "metadata": {},
   "outputs": [],
   "source": [
    "epochs = 2000\n",
    "mod1_losses = []\n",
    "\n",
    "for i in range(epochs):\n",
    "    i+=1\n",
    "    # forward step\n",
    "    y_pred_mod1 = model_one.forward(X)\n",
    "    \n",
    "    # compute loss (error)\n",
    "    loss = criterion(y_pred_mod1, y)\n",
    "    \n",
    "    # append loss to a list for plotting and analysis\n",
    "    mod1_losses.append(loss)\n",
    "    \n",
    "    # reset gadient at each epoch, because gradients are accumulating\n",
    "    optimizer.zero_grad()\n",
    "    # backprop the loss through the model and compute gradients\n",
    "    loss.backward()\n",
    "    # optimization step to upade weights and biases\n",
    "    optimizer.step()"
   ]
  },
  {
   "cell_type": "code",
   "execution_count": 19,
   "id": "5d849ace",
   "metadata": {},
   "outputs": [],
   "source": [
    "mod1_losses=torch.tensor(mod1_losses)"
   ]
  },
  {
   "cell_type": "code",
   "execution_count": null,
   "id": "618dfa20",
   "metadata": {},
   "outputs": [],
   "source": []
  },
  {
   "cell_type": "code",
   "execution_count": 20,
   "id": "008daee9",
   "metadata": {},
   "outputs": [],
   "source": [
    "##########################################-----HW 1-1(Model 2)---------############################################"
   ]
  },
  {
   "cell_type": "code",
   "execution_count": null,
   "id": "edaee5c2",
   "metadata": {},
   "outputs": [],
   "source": []
  },
  {
   "cell_type": "code",
   "execution_count": 21,
   "id": "6422bfad",
   "metadata": {},
   "outputs": [],
   "source": [
    "class Model2(nn.Module):\n",
    "    def __init__(self, in_features=1, h2=190, out_features=1):\n",
    "        super().__init__()\n",
    "        self.fc1 = nn.Linear(in_features,h2)    # input layer\n",
    "        self.out = nn.Linear(h2, out_features)  # output layer\n",
    "        \n",
    "    def forward(self, x):\n",
    "        x = F.relu(self.fc1(x))\n",
    "        x = self.out(x)\n",
    "        return x"
   ]
  },
  {
   "cell_type": "code",
   "execution_count": 22,
   "id": "7ee4aaa0",
   "metadata": {},
   "outputs": [],
   "source": [
    "model_two=Model2()"
   ]
  },
  {
   "cell_type": "code",
   "execution_count": 23,
   "id": "850c7463",
   "metadata": {},
   "outputs": [],
   "source": [
    "criterion = nn.MSELoss()\n"
   ]
  },
  {
   "cell_type": "code",
   "execution_count": 24,
   "id": "74d31a6d",
   "metadata": {},
   "outputs": [],
   "source": [
    "optimizer = torch.optim.Adam(model_two.parameters(), lr=0.001)"
   ]
  },
  {
   "cell_type": "code",
   "execution_count": 25,
   "id": "5dad4297",
   "metadata": {},
   "outputs": [],
   "source": [
    "epochs = 2000\n",
    "mod2_losses = []\n",
    "\n",
    "for i in range(epochs):\n",
    "    i+=1\n",
    "    # forward step\n",
    "    y_pred_mod2 = model_two.forward(X)\n",
    "    \n",
    "    # compute loss (error)\n",
    "    loss = criterion(y_pred_mod2, y)\n",
    "    \n",
    "    # append loss to a list for plotting and analysis\n",
    "    mod2_losses.append(loss)\n",
    "    \n",
    "    # reset gadient at each epoch, because gradients are accumulating\n",
    "    optimizer.zero_grad()\n",
    "    # backprop the loss through the model and compute gradients\n",
    "    loss.backward()\n",
    "    # optimization step to upade weights and biases\n",
    "    optimizer.step()"
   ]
  },
  {
   "cell_type": "code",
   "execution_count": 26,
   "id": "cc45646b",
   "metadata": {},
   "outputs": [],
   "source": [
    "mod2_losses=torch.tensor(mod2_losses)"
   ]
  },
  {
   "cell_type": "code",
   "execution_count": 27,
   "id": "0039bba9",
   "metadata": {},
   "outputs": [
    {
     "data": {
      "image/png": "[encoded data removed]",
      "text/plain": [
       "<Figure size 432x288 with 1 Axes>"
      ]
     },
     "metadata": {
      "needs_background": "light"
     },
     "output_type": "display_data"
    }
   ],
   "source": [
    "plt.plot(range(epochs),mod0_losses.numpy(),'r')\n",
    "plt.plot(range(epochs),mod1_losses.numpy(),'g')\n",
    "plt.plot(range(epochs),mod2_losses.numpy(),'b')\n",
    "plt.legend(['model0','model1','model2'])\n",
    "plt.ylabel('Loss')\n",
    "plt.xlabel('Epochs')\n",
    "plt.show()"
   ]
  },
  {
   "cell_type": "code",
   "execution_count": 28,
   "id": "19eec630",
   "metadata": {},
   "outputs": [
    {
     "data": {
      "image/png": "[encoded data removed]",
      "text/plain": [
       "<Figure size 432x288 with 1 Axes>"
      ]
     },
     "metadata": {
      "needs_background": "light"
     },
     "output_type": "display_data"
    }
   ],
   "source": [
    "#Plotting all Models\n",
    "plt.plot(X.numpy(), y_pred.detach().numpy(),'r')\n",
    "plt.plot(X.numpy(), y_pred_mod1.detach().numpy(),'g')\n",
    "plt.plot(X.numpy(), y_pred_mod2.detach().numpy(),'b')\n",
    "plt.legend(['model0','model1','model2'])\n",
    "\n",
    "\n",
    "plt.ylabel('y')\n",
    "plt.xlabel('x');"
   ]
  },
  {
   "cell_type": "code",
   "execution_count": null,
   "id": "f61b718b",
   "metadata": {},
   "outputs": [],
   "source": []
  },
  {
   "cell_type": "code",
   "execution_count": null,
   "id": "7bff83e9",
   "metadata": {},
   "outputs": [],
   "source": []
  },
  {
   "cell_type": "code",
   "execution_count": null,
   "id": "5eefe984",
   "metadata": {},
   "outputs": [],
   "source": []
  },
  {
   "cell_type": "code",
   "execution_count": null,
   "id": "d5a1c040",
   "metadata": {},
   "outputs": [],
   "source": []
  },
  {
   "cell_type": "code",
   "execution_count": null,
   "id": "749a7189",
   "metadata": {},
   "outputs": [],
   "source": []
  },
  {
   "cell_type": "code",
   "execution_count": 29,
   "id": "2d1d70d3",
   "metadata": {},
   "outputs": [],
   "source": [
    "##########################################-----HW 1-1(Model 0) Function-2 ---------############################################"
   ]
  },
  {
   "cell_type": "code",
   "execution_count": null,
   "id": "9ed579ec",
   "metadata": {},
   "outputs": [],
   "source": []
  },
  {
   "cell_type": "code",
   "execution_count": null,
   "id": "ade6beda",
   "metadata": {},
   "outputs": [],
   "source": []
  },
  {
   "cell_type": "code",
   "execution_count": null,
   "id": "a90026dd",
   "metadata": {},
   "outputs": [],
   "source": []
  },
  {
   "cell_type": "code",
   "execution_count": null,
   "id": "5cc26c80",
   "metadata": {},
   "outputs": [],
   "source": []
  },
  {
   "cell_type": "code",
   "execution_count": 30,
   "id": "3cf23b8c",
   "metadata": {},
   "outputs": [],
   "source": [
    "import torch\n",
    "import torch.nn as nn  \n",
    "import torch.nn.functional as F\n",
    "\n",
    "import numpy as np\n",
    "import matplotlib.pyplot as plt\n",
    "%matplotlib inline"
   ]
  },
  {
   "cell_type": "code",
   "execution_count": 31,
   "id": "81a4706d",
   "metadata": {},
   "outputs": [],
   "source": [
    "X1 = torch.linspace(-1,1,150).reshape(-1,1)"
   ]
  },
  {
   "cell_type": "code",
   "execution_count": 32,
   "id": "42805a59",
   "metadata": {},
   "outputs": [],
   "source": [
    "y1=np.sign(np.sin(5*np.pi*X1))"
   ]
  },
  {
   "cell_type": "code",
   "execution_count": 33,
   "id": "f945ce15",
   "metadata": {},
   "outputs": [
    {
     "data": {
      "image/png": "[encoded data removed]",
      "text/plain": [
       "<Figure size 432x288 with 1 Axes>"
      ]
     },
     "metadata": {
      "needs_background": "light"
     },
     "output_type": "display_data"
    }
   ],
   "source": [
    "plt.plot(X1.numpy(), y1.numpy())\n",
    "\n",
    "plt.ylabel('y')\n",
    "plt.xlabel('x');\n"
   ]
  },
  {
   "cell_type": "code",
   "execution_count": 36,
   "id": "e66048b2",
   "metadata": {},
   "outputs": [],
   "source": [
    "class Modelzf2(nn.Module):\n",
    "    def __init__(self, in_features=1, h2=5, h3=10,h4=10,h5=10,h6=10,h7=10,h8=5, out_features=1):\n",
    "        super().__init__()\n",
    "        self.fc1 = nn.Linear(in_features,h2)    # input layer\n",
    "        self.fc2 = nn.Linear(h2, h3)\n",
    "        self.fc3 = nn.Linear(h3, h4)\n",
    "        self.fc4 = nn.Linear(h4, h5)\n",
    "        self.fc5 = nn.Linear(h5, h6)\n",
    "        self.fc6 = nn.Linear(h6, h7)\n",
    "        self.fc7 = nn.Linear(h7, h8)\n",
    "        self.out = nn.Linear(h8, out_features)  # output layer\n",
    "        \n",
    "    def forward(self, x):\n",
    "        x = F.relu(self.fc1(x))\n",
    "        x = F.relu(self.fc2(x))\n",
    "        x = F.relu(self.fc3(x))\n",
    "        x = F.relu(self.fc4(x))\n",
    "        x = F.relu(self.fc5(x))\n",
    "        x = F.relu(self.fc6(x))\n",
    "        x = F.relu(self.fc7(x))\n",
    "        x = self.out(x)\n",
    "        return x"
   ]
  },
  {
   "cell_type": "code",
   "execution_count": 37,
   "id": "d95554a2",
   "metadata": {},
   "outputs": [],
   "source": [
    "model_zero_f2=Modelzf2()"
   ]
  },
  {
   "cell_type": "code",
   "execution_count": 38,
   "id": "39181e9d",
   "metadata": {},
   "outputs": [
    {
     "name": "stdout",
     "output_type": "stream",
     "text": [
      "No of parameters in model = 571\n"
     ]
    }
   ],
   "source": [
    "sum=0\n",
    "for param in model_zero_f2.parameters():\n",
    "    sum=sum+param.numel()\n",
    "    \n",
    "print(\"No of parameters in model =\",sum)"
   ]
  },
  {
   "cell_type": "code",
   "execution_count": 39,
   "id": "e9be92a0",
   "metadata": {},
   "outputs": [],
   "source": [
    "criterion = nn.MSELoss()"
   ]
  },
  {
   "cell_type": "code",
   "execution_count": 40,
   "id": "9de0d451",
   "metadata": {},
   "outputs": [],
   "source": [
    "optimizer = torch.optim.Adam(model_zero_f2.parameters(), lr=0.001)"
   ]
  },
  {
   "cell_type": "code",
   "execution_count": 41,
   "id": "9e1728f8",
   "metadata": {},
   "outputs": [],
   "source": [
    "epochs = 2000\n",
    "mod0_losses_f2 = []\n",
    "\n",
    "for i in range(epochs):\n",
    "    i+=1\n",
    "    # forward step\n",
    "    y_pred_mod0_f2 = model_zero_f2.forward(X1)\n",
    "    \n",
    "    # compute loss (error)\n",
    "    loss = criterion(y_pred_mod0_f2, y1)\n",
    "    \n",
    "    # append loss to a list for plotting and analysis\n",
    "    mod0_losses_f2.append(loss)\n",
    "    \n",
    "    # reset gadient at each epoch, because gradients are accumulating\n",
    "    optimizer.zero_grad()\n",
    "    # backprop the loss through the model and compute gradients\n",
    "    loss.backward()\n",
    "    # optimization step to upate weights and biases\n",
    "    optimizer.step()"
   ]
  },
  {
   "cell_type": "code",
   "execution_count": 42,
   "id": "3f798437",
   "metadata": {},
   "outputs": [],
   "source": [
    "mod0_losses_f2=torch.tensor(mod0_losses_f2)"
   ]
  },
  {
   "cell_type": "code",
   "execution_count": null,
   "id": "c3dccaf6",
   "metadata": {},
   "outputs": [],
   "source": []
  },
  {
   "cell_type": "code",
   "execution_count": 45,
   "id": "a4497e4a",
   "metadata": {},
   "outputs": [],
   "source": [
    "##########################################-----HW 1-1(Model 1) Function-2 ---------############################################"
   ]
  },
  {
   "cell_type": "code",
   "execution_count": null,
   "id": "a49cb0ff",
   "metadata": {},
   "outputs": [],
   "source": []
  },
  {
   "cell_type": "code",
   "execution_count": 46,
   "id": "ac8829e7",
   "metadata": {},
   "outputs": [],
   "source": [
    "class Modelof2(nn.Module):\n",
    "    def __init__(self, in_features=1, h2=10, h3=18,h4=15,h5=4, out_features=1):\n",
    "        super().__init__()\n",
    "        self.fc1 = nn.Linear(in_features,h2)    # input layer\n",
    "        self.fc2 = nn.Linear(h2, h3)\n",
    "        self.fc3 = nn.Linear(h3, h4)\n",
    "        self.fc4 = nn.Linear(h4, h5)\n",
    "        self.out = nn.Linear(h5, out_features)  # output layer\n",
    "        \n",
    "    def forward(self, x):\n",
    "        x = F.relu(self.fc1(x))\n",
    "        x = F.relu(self.fc2(x))\n",
    "        x = F.relu(self.fc3(x))\n",
    "        x = F.relu(self.fc4(x))\n",
    "        x = self.out(x)\n",
    "        return x"
   ]
  },
  {
   "cell_type": "code",
   "execution_count": 47,
   "id": "1abcb7fd",
   "metadata": {},
   "outputs": [],
   "source": [
    "model_one_f2 = Modelof2()"
   ]
  },
  {
   "cell_type": "code",
   "execution_count": 48,
   "id": "6898acb4",
   "metadata": {},
   "outputs": [
    {
     "name": "stdout",
     "output_type": "stream",
     "text": [
      "parameters = 572\n"
     ]
    }
   ],
   "source": [
    "sum=0\n",
    "for param in model_one_f2.parameters():\n",
    "    sum=sum+param.numel()\n",
    "    \n",
    "print(\"parameters =\",sum)"
   ]
  },
  {
   "cell_type": "code",
   "execution_count": 49,
   "id": "7b9ad780",
   "metadata": {},
   "outputs": [],
   "source": [
    "criterion = nn.MSELoss()"
   ]
  },
  {
   "cell_type": "code",
   "execution_count": 50,
   "id": "acc0c999",
   "metadata": {},
   "outputs": [],
   "source": [
    "optimizer = torch.optim.Adam(model_one_f2.parameters(), lr=0.001)"
   ]
  },
  {
   "cell_type": "code",
   "execution_count": 51,
   "id": "417929c6",
   "metadata": {},
   "outputs": [],
   "source": [
    "epochs = 2000\n",
    "mod1_losses_f2 = []\n",
    "\n",
    "for i in range(epochs):\n",
    "    i+=1\n",
    "    # forward step\n",
    "    y_pred_mod1_f2 = model_one_f2.forward(X1)\n",
    "    \n",
    "    # compute loss (error)\n",
    "    loss = criterion(y_pred_mod1_f2, y1)\n",
    "    \n",
    "    # append loss to a list for plotting and analysis\n",
    "    mod1_losses_f2.append(loss)\n",
    "    \n",
    "    # reset gadient at each epoch, because gradients are accumulating\n",
    "    optimizer.zero_grad()\n",
    "    # backprop the loss through the model and compute gradients\n",
    "    loss.backward()\n",
    "    # optimization step to upate weights and biases\n",
    "    optimizer.step()"
   ]
  },
  {
   "cell_type": "code",
   "execution_count": 52,
   "id": "7e5dcf81",
   "metadata": {},
   "outputs": [],
   "source": [
    "mod1_losses_f2=torch.tensor(mod1_losses_f2)"
   ]
  },
  {
   "cell_type": "code",
   "execution_count": null,
   "id": "a2cd8547",
   "metadata": {},
   "outputs": [],
   "source": []
  },
  {
   "cell_type": "code",
   "execution_count": 55,
   "id": "36543490",
   "metadata": {},
   "outputs": [],
   "source": [
    "##########################################-----HW 1-1(Model 2) Function-2 ---------############################################"
   ]
  },
  {
   "cell_type": "code",
   "execution_count": 60,
   "id": "6b69d418",
   "metadata": {},
   "outputs": [],
   "source": [
    "class Model2f2(nn.Module):\n",
    "    def __init__(self, in_features=1, h2=190, out_features=1):\n",
    "        super().__init__()\n",
    "        self.fc1 = nn.Linear(in_features,h2)   \n",
    "        self.out = nn.Linear(h2, out_features) \n",
    "        \n",
    "    def forward(self, x):\n",
    "        x = F.relu(self.fc1(x))\n",
    "        x = self.out(x)\n",
    "        return x"
   ]
  },
  {
   "cell_type": "code",
   "execution_count": 61,
   "id": "a7c40bed",
   "metadata": {},
   "outputs": [],
   "source": [
    "model_two_f2 = Model2f2()"
   ]
  },
  {
   "cell_type": "code",
   "execution_count": 62,
   "id": "5785e6bd",
   "metadata": {},
   "outputs": [
    {
     "data": {
      "text/plain": [
       "Model2f2(\n",
       "  (fc1): Linear(in_features=1, out_features=190, bias=True)\n",
       "  (out): Linear(in_features=190, out_features=1, bias=True)\n",
       ")"
      ]
     },
     "execution_count": 62,
     "metadata": {},
     "output_type": "execute_result"
    }
   ],
   "source": [
    "model_two_f2"
   ]
  },
  {
   "cell_type": "code",
   "execution_count": 63,
   "id": "086e7204",
   "metadata": {},
   "outputs": [
    {
     "name": "stdout",
     "output_type": "stream",
     "text": [
      "parameters = 571\n"
     ]
    }
   ],
   "source": [
    "sum=0\n",
    "for param in model_two_f2.parameters():\n",
    "    sum=sum+param.numel()\n",
    "    \n",
    "print(\"parameters =\",sum)"
   ]
  },
  {
   "cell_type": "code",
   "execution_count": 64,
   "id": "9fdad295",
   "metadata": {},
   "outputs": [],
   "source": [
    "criterion = nn.MSELoss()"
   ]
  },
  {
   "cell_type": "code",
   "execution_count": 65,
   "id": "98419da0",
   "metadata": {},
   "outputs": [],
   "source": [
    "optimizer = torch.optim.Adam(model_two_f2.parameters(), lr=0.001)"
   ]
  },
  {
   "cell_type": "code",
   "execution_count": 66,
   "id": "82378d2a",
   "metadata": {},
   "outputs": [],
   "source": [
    "epochs = 2000\n",
    "mod2_losses_f2 = []\n",
    "\n",
    "for i in range(epochs):\n",
    "    i+=1\n",
    "    # forward step\n",
    "    y_pred_mod2_f2 = model_two_f2.forward(X1)\n",
    "    \n",
    "    # compute loss (error)\n",
    "    loss = criterion(y_pred_mod2_f2, y1)\n",
    "    \n",
    "    # append loss to a list for plotting and analysis\n",
    "    mod2_losses_f2.append(loss)\n",
    "    \n",
    "    # reset gadient at each epoch, because gradients are accumulating\n",
    "    optimizer.zero_grad()\n",
    "    # backprop the loss through the model and compute gradients\n",
    "    loss.backward()\n",
    "    # optimization step to upate weights and biases\n",
    "    optimizer.step()"
   ]
  },
  {
   "cell_type": "code",
   "execution_count": 67,
   "id": "de2f9843",
   "metadata": {},
   "outputs": [],
   "source": [
    "mod2_losses_f2=torch.tensor(mod2_losses_f2)"
   ]
  },
  {
   "cell_type": "code",
   "execution_count": 70,
   "id": "5cfee676",
   "metadata": {},
   "outputs": [
    {
     "data": {
      "image/png": "[encoded data removed]",
      "text/plain": [
       "<Figure size 432x288 with 1 Axes>"
      ]
     },
     "metadata": {
      "needs_background": "light"
     },
     "output_type": "display_data"
    }
   ],
   "source": [
    "#x vs y_pred for all models using F2\n",
    "plt.plot(range(epochs),mod0_losses_f2.numpy(),'r')\n",
    "plt.plot(range(epochs),mod1_losses_f2.numpy(),'g')\n",
    "plt.plot(range(epochs),mod2_losses_f2.numpy(),'b')\n",
    "plt.legend(['model0','model1','model2'])\n",
    "plt.ylabel('Loss')\n",
    "plt.xlabel('Epochs')\n",
    "plt.show()"
   ]
  },
  {
   "cell_type": "code",
   "execution_count": 71,
   "id": "c4187148",
   "metadata": {},
   "outputs": [
    {
     "data": {
      "image/png": "[encoded data removed]",
      "text/plain": [
       "<Figure size 432x288 with 1 Axes>"
      ]
     },
     "metadata": {
      "needs_background": "light"
     },
     "output_type": "display_data"
    }
   ],
   "source": [
    "#Plotting all Models predicted values\n",
    "plt.plot(X1.numpy(), y_pred_mod0_f2.detach().numpy(),'r')\n",
    "plt.plot(X1.numpy(), y_pred_mod1_f2.detach().numpy(),'y')\n",
    "plt.plot(X1.numpy(), y_pred_mod2_f2.detach().numpy(),'b')\n",
    "plt.legend(['model0','model1','model2'])\n",
    "\n",
    "\n",
    "plt.ylabel('y')\n",
    "plt.xlabel('x');"
   ]
  },
  {
   "cell_type": "code",
   "execution_count": null,
   "id": "9095a53e",
   "metadata": {},
   "outputs": [],
   "source": []
  },
  {
   "cell_type": "code",
   "execution_count": null,
   "id": "3cbe827e",
   "metadata": {},
   "outputs": [],
   "source": []
  },
  {
   "cell_type": "code",
   "execution_count": null,
   "id": "e63b5538",
   "metadata": {},
   "outputs": [],
   "source": []
  },
  {
   "cell_type": "code",
   "execution_count": null,
   "id": "2e06ce1f",
   "metadata": {},
   "outputs": [],
   "source": []
  }
 ],
 "metadata": {
  "kernelspec": {
   "display_name": "Python 3 (ipykernel)",
   "language": "python",
   "name": "python3"
  },
  "language_info": {
   "codemirror_mode": {
    "name": "ipython",
    "version": 3
   },
   "file_extension": ".py",
   "mimetype": "text/x-python",
   "name": "python",
   "nbconvert_exporter": "python",
   "pygments_lexer": "ipython3",
   "version": "3.9.7"
  }
 },
 "nbformat": 4,
 "nbformat_minor": 5
}
